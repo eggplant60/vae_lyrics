{
 "cells": [
  {
   "cell_type": "markdown",
   "metadata": {},
   "source": [
    "# SVM のテスト"
   ]
  },
  {
   "cell_type": "markdown",
   "metadata": {},
   "source": [
    "### データを用意"
   ]
  },
  {
   "cell_type": "code",
   "execution_count": 10,
   "metadata": {},
   "outputs": [
    {
     "name": "stdout",
     "output_type": "stream",
     "text": [
      "データセットの数: 1000, 特徴量の次元: 100\n",
      "{'flumpool', 'DOES', 'ELLEGARDEN', 'the pillows', 'Mr.Children', 'the GazettE', \"L'Arc～en～Ciel\", 'the HIATUS', 'UNISON SQUARE GARDEN', '藍坊主', 'スガシカオ', 'GRANRODEO', 'スピッツ', 'BUMP OF CHICKEN', 'abingdon boys school', 'SEKAI NO OWARI', 'JAM Project', 'back number', \"B'z\", 'RADWIMPS', 'GALNERYUS', 'ASIAN KUNG-FU GENERATION', 'ONE OK ROCK', 'Bank Band', 'THE ALFEE', 'GLAY', '聖飢魔II', 'T.M.Revolution', 'Galileo Galilei', 'FLOW'}\n",
      "アーティストの数: 30\n"
     ]
    }
   ],
   "source": [
    "from sklearn.datasets import load_digits\n",
    "import pickle\n",
    "from sklearn.cross_validation import train_test_split\n",
    "\n",
    "#digits = load_digits()\n",
    "\n",
    "pkl_file = 'result_0208_C041/vector.pkl'\n",
    "art_file = 'data_utanet/test_a.txt'\n",
    "\n",
    "# pkl file の情報\n",
    "with open(pkl_file, 'rb') as f:\n",
    "    vectors = pickle.load(f)\n",
    "\n",
    "print('データセットの数: {}, 特徴量の次元: {}'.\\\n",
    "      format(vectors.shape[0], vectors.shape[1]))\n",
    "\n",
    "# artist file の情報\n",
    "with open(art_file, 'r') as f:\n",
    "    arts = [line.strip()\n",
    "                 for line in f.readlines()[:vectors.shape[0]]]\n",
    "    print(set(arts))\n",
    "    n_art = len(set(arts))\n",
    "print('アーティストの数: {}'.format(n_art))\n",
    "\n",
    "assert len(vectors) == len(arts)\n",
    "\n",
    "\n",
    "train_v, test_v, train_c, test_c = train_test_split(vectors, arts)"
   ]
  },
  {
   "cell_type": "code",
   "execution_count": null,
   "metadata": {
    "collapsed": true
   },
   "outputs": [],
   "source": [
    "### SVM のグリッドサーチ"
   ]
  },
  {
   "cell_type": "code",
   "execution_count": 9,
   "metadata": {},
   "outputs": [
    {
     "name": "stdout",
     "output_type": "stream",
     "text": [
      "C: 1, gamma: 0.01, a: 0.14000\n",
      "C: 1, gamma: 0.001, a: 0.05200\n",
      "C: 1, gamma: 0.0001, a: 0.05200\n",
      "C: 10, gamma: 0.01, a: 0.17600\n",
      "C: 10, gamma: 0.001, a: 0.16800\n",
      "C: 10, gamma: 0.0001, a: 0.05600\n",
      "C: 100, gamma: 0.01, a: 0.17600\n",
      "C: 100, gamma: 0.001, a: 0.17600\n",
      "C: 100, gamma: 0.0001, a: 0.17600\n",
      "C: 1000, gamma: 0.01, a: 0.17600\n",
      "C: 1000, gamma: 0.001, a: 0.17600\n",
      "C: 1000, gamma: 0.0001, a: 0.16000\n"
     ]
    }
   ],
   "source": [
    "from sklearn.multiclass import OneVsRestClassifier\n",
    "from sklearn.svm import SVC\n",
    "\n",
    "from sklearn.metrics import accuracy_score\n",
    "#from sklearn.grid_search import GridSearchCV\n",
    "\n",
    "# kernel = 'linear'\n",
    "# Cs = [1, 10, 100, 1000]\n",
    "# for C in Cs:\n",
    "#     est = SVC(C=C, kernel=kernel)\n",
    "#     clf = OneVsRestClassifier(est)\n",
    "#     clf.fit(train_v, train_c)\n",
    "#     pred_c = clf.predict(test_v)\n",
    "#     print('C: {}, a: {:.5f}'.\\\n",
    "#           format(C, accuracy_score(test_c, pred_c)))\n",
    "\n",
    "kernel = 'rbf'\n",
    "Cs = [1, 10, 100, 1000]\n",
    "gammas = [0.01, 0.001, 0.0001]\n",
    "for C in Cs:\n",
    "    for gamma in gammas:\n",
    "        clf = SVC(C=C, kernel=kernel, gamma=gamma)\n",
    "        #clf = OneVsRestClassifier(est)\n",
    "        clf.fit(train_v, train_c)\n",
    "        pred_c = clf.predict(test_v)\n",
    "        print('C: {}, gamma: {}, a: {:.5f}'.\\\n",
    "              format(C, gamma, accuracy_score(test_c, pred_c)))"
   ]
  }
 ],
 "metadata": {
  "kernelspec": {
   "display_name": "Python 3",
   "language": "python",
   "name": "python3"
  },
  "language_info": {
   "codemirror_mode": {
    "name": "ipython",
    "version": 3
   },
   "file_extension": ".py",
   "mimetype": "text/x-python",
   "name": "python",
   "nbconvert_exporter": "python",
   "pygments_lexer": "ipython3",
   "version": "3.6.3"
  }
 },
 "nbformat": 4,
 "nbformat_minor": 2
}
